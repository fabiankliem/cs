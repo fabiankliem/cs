{
 "cells": [
  {
   "cell_type": "markdown",
   "id": "0c1353b0-cc67-4d66-a2fc-ae0f582e7263",
   "metadata": {},
   "source": [
    "# Danke"
   ]
  },
  {
   "cell_type": "markdown",
   "id": "ae51a5ec-d92f-4ef8-b87b-85743bf63004",
   "metadata": {
    "jp-MarkdownHeadingCollapsed": true
   },
   "source": [
    "## Conclusions I\n",
    "\n",
    "- Applying two moving averages gives a somewhat promising start (Experiment 1)\n",
    "- All positions should be scaled by the inverse price volatility (Experiment 2)\n",
    "- Using adjusted prices and scaled signals helps to address data problems and opens the door for statistics (Experiment 3)"
   ]
  },
  {
   "cell_type": "markdown",
   "id": "5b91e038-c7d9-4ce8-b4fa-49bdfe9f2acf",
   "metadata": {},
   "source": [
    "## Conclusions II\n",
    "\n",
    "- Asset allocation can be done both in cash and risk space. Risk wins (Optimization)\n",
    "- The common univariate systems are closely related to diagonal Markowitz (Experiment 4)\n",
    "- Ignoring cross correlations is a bad idea (Experiment 5)\n",
    "- The smart combination of univariate trading systems is extremely helpful to boost returns."
   ]
  },
  {
   "cell_type": "markdown",
   "id": "69d0394e-870d-45de-bfce-b6b4501341b5",
   "metadata": {},
   "source": [
    "## What you haven't seen I\n",
    "\n",
    "- In practice you hardly can rely on the analytic solution of convex problems. Need solvers such as Mosek (and cvxpy).\n",
    "- We optimized the expected return (in risk space). In practice it's a good idea to apply regularization here (Ridge, Lasso, Elastic Nets) and introduce some mock trading costs to tame the trading activity. A typcial Markowitz system will trade far less than the univariate system.\n",
    "- Applying Lasso/Elastic Nets regularization opens the door for sparse updates."
   ]
  },
  {
   "cell_type": "markdown",
   "id": "337ca6f1-dec0-499e-b944-db132f322a26",
   "metadata": {},
   "source": [
    "## What you haven't seen II\n",
    "\n",
    "- The construction of more powerful signals is about the smart combination of standard signals by using convex programming (Index-Tracking).\n",
    "- We treated all underlying markets the same, e.g. did not distinguish capacity or measure market share\n",
    "- We did not address the problem of low volatilities, e.g. the system will operate with often huge positions (lack of volatility in interest rates). Constraints on the leverage help here..."
   ]
  },
  {
   "cell_type": "code",
   "execution_count": null,
   "id": "3e5b3c25-8657-4f30-aa65-d21e1ea52d44",
   "metadata": {},
   "outputs": [],
   "source": []
  }
 ],
 "metadata": {
  "kernelspec": {
   "display_name": "Python 3 (ipykernel)",
   "language": "python",
   "name": "python3"
  },
  "language_info": {
   "codemirror_mode": {
    "name": "ipython",
    "version": 3
   },
   "file_extension": ".py",
   "mimetype": "text/x-python",
   "name": "python",
   "nbconvert_exporter": "python",
   "pygments_lexer": "ipython3",
   "version": "3.10.9"
  }
 },
 "nbformat": 4,
 "nbformat_minor": 5
}
