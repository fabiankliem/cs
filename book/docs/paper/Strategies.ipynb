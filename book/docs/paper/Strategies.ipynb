{
 "cells": [
  {
   "cell_type": "markdown",
   "metadata": {
    "slideshow": {
     "slide_type": "slide"
    }
   },
   "source": [
    "# Implement a hedge fund strategy in 10 lines"
   ]
  },
  {
   "cell_type": "markdown",
   "metadata": {
    "collapsed": false,
    "jupyter": {
     "outputs_hidden": false
    }
   },
   "source": [
    "## Thomas Schmelzer\n",
    "## thomas.schmelzer@gmail.com\n",
    "## https://github.com/tschm/cs"
   ]
  },
  {
   "cell_type": "markdown",
   "metadata": {
    "slideshow": {
     "slide_type": "slide"
    }
   },
   "source": [
    "* Summer 2017: Lunch with Cyrus Fazel (CEO, Swissborg)\n",
    "* Motivation to implement a CTA strategy with less than 10 lines of code\n",
    "* Today: Attempt to help demystifying quantitative hedge funds and their level of sophistication."
   ]
  },
  {
   "cell_type": "markdown",
   "metadata": {
    "slideshow": {
     "slide_type": "slide"
    }
   },
   "source": [
    "Baz, Jamil and Granger, Nicolas M. and Harvey, Campbell R. and Le Roux, Nicolas and Rattray, Sandy, \n",
    "Dissecting Investment Strategies in the Cross Section and Time Series (December 4, 2015). \n",
    "Available at SSRN: https://ssrn.com/abstract=2695101 or http://dx.doi.org/10.2139/ssrn.2695101\n"
   ]
  },
  {
   "cell_type": "markdown",
   "metadata": {
    "slideshow": {
     "slide_type": "slide"
    }
   },
   "source": [
    "## CTA = Commodity Trading Advisor\n",
    "\n",
    "* Man AHL\n",
    "* Winton Capital\n",
    "* Aspect Capital\n",
    "* BlueTrend (part of BlueCrest, today Systematica)\n",
    "* Solaise Capital\n",
    "* Ashenden Capital\n",
    "* ...\n",
    "* Barclays CTA Index\n"
   ]
  },
  {
   "cell_type": "markdown",
   "metadata": {
    "slideshow": {
     "slide_type": "slide"
    }
   },
   "source": [
    "In a first experiment we run a classic MACD system:\n",
    "\n",
    "[Experiment 1](Experiment1.ipynb)"
   ]
  },
  {
   "cell_type": "markdown",
   "metadata": {
    "slideshow": {
     "slide_type": "slide"
    }
   },
   "source": [
    "In a second experiment we volatility-adjust the positions of a classic MACD system:\n",
    "\n",
    "[Experiment 2](Experiment2.ipynb)    "
   ]
  },
  {
   "cell_type": "markdown",
   "metadata": {
    "slideshow": {
     "slide_type": "slide"
    }
   },
   "source": [
    "In a third experiment we work with adjusted prices and apply oscillators\n",
    "\n",
    "[Experiment 3](Experiment3.ipynb)\n"
   ]
  },
  {
   "cell_type": "markdown",
   "metadata": {
    "slideshow": {
     "slide_type": "slide"
    }
   },
   "source": [
    "* I have published essentially the code above on LinkedIn in 2017.\n",
    "* I got approximately 270 likes (that's $10\\,\\sigma$ for me), numerous comments and a few private messages.\n",
    "* https://www.linkedin.com/pulse/implement-cta-less-than-10-lines-code-thomas-schmelzer/"
   ]
  },
  {
   "cell_type": "markdown",
   "metadata": {
    "slideshow": {
     "slide_type": "slide"
    }
   },
   "source": [
    "* All systems we have seen are **univariate** and lack risk management (adding assets will increase the risk).\n",
    "* It's a good idea to scale positions with the inverse volatility.\n",
    "* The maintenance of univariate systems is almost trivial.\n",
    "* All systems operate in the space of cash positions.\n"
   ]
  },
  {
   "cell_type": "markdown",
   "metadata": {
    "slideshow": {
     "slide_type": "slide"
    }
   },
   "source": [
    "# My personal Views\n",
    "* Strategies should be **multivariate** as assets tend to be highly correlated.\n",
    "* A strategy should measure and control the risk.\n",
    "* The cash position is of limited use (in the context of futures).\n",
    "* It's helpful to allocate risk rather than capital (although both ideas are equivalent).\n",
    "* Data is here to correct **bias**. Having a strong bias is helpful and required. "
   ]
  },
  {
   "cell_type": "markdown",
   "metadata": {
    "slideshow": {
     "slide_type": "slide"
    }
   },
   "source": [
    "We take the step from univariate to multivariate systems and interpret univariate systems as a special case of the new class:\n",
    "\n",
    "[Optimization](Optimization.ipynb)"
   ]
  },
  {
   "cell_type": "markdown",
   "metadata": {
    "slideshow": {
     "slide_type": "slide"
    }
   },
   "source": [
    "In a fourth experiment we use the diagonal Markowitz approach\n",
    "\n",
    "[Experiment 4](Experiment4.ipynb)"
   ]
  },
  {
   "cell_type": "markdown",
   "metadata": {
    "slideshow": {
     "slide_type": "slide"
    }
   },
   "source": [
    "In a fifth experiment we run Markowitz (with shrinkage in the sample correlation matrix) on a Futures portfolio\n",
    "\n",
    "[Experiment 5](Experiment5.ipynb)"
   ]
  }
 ],
 "metadata": {
  "celltoolbar": "Slideshow",
  "kernelspec": {
   "display_name": "Python 3 (ipykernel)",
   "language": "python",
   "name": "python3"
  },
  "language_info": {
   "codemirror_mode": {
    "name": "ipython",
    "version": 3
   },
   "file_extension": ".py",
   "mimetype": "text/x-python",
   "name": "python",
   "nbconvert_exporter": "python",
   "pygments_lexer": "ipython3",
   "version": "3.10.9"
  },
  "toc": {
   "base_numbering": 1,
   "nav_menu": {},
   "number_sections": false,
   "sideBar": false,
   "skip_h1_title": false,
   "title_cell": "Table of Contents",
   "title_sidebar": "Contents",
   "toc_cell": false,
   "toc_position": {},
   "toc_section_display": false,
   "toc_window_display": false
  }
 },
 "nbformat": 4,
 "nbformat_minor": 4
}
